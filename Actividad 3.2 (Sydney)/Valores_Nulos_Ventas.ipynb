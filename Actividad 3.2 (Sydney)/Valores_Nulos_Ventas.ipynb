{
 "cells": [
  {
   "cell_type": "markdown",
   "metadata": {},
   "source": [
    "**IMPORTAR LIBRERÍAS**"
   ]
  },
  {
   "cell_type": "code",
   "execution_count": 1,
   "metadata": {},
   "outputs": [],
   "source": [
    "import pandas as pd\n",
    "import numpy as np \n",
    "import matplotlib.pyplot as plt \n",
    "import seaborn as sns"
   ]
  },
  {
   "cell_type": "markdown",
   "metadata": {},
   "source": [
    "**CARGAMOS EL ARCHIVO CSV**"
   ]
  },
  {
   "cell_type": "code",
   "execution_count": 3,
   "metadata": {},
   "outputs": [
    {
     "data": {
      "text/html": [
       "<div>\n",
       "<style scoped>\n",
       "    .dataframe tbody tr th:only-of-type {\n",
       "        vertical-align: middle;\n",
       "    }\n",
       "\n",
       "    .dataframe tbody tr th {\n",
       "        vertical-align: top;\n",
       "    }\n",
       "\n",
       "    .dataframe thead th {\n",
       "        text-align: right;\n",
       "    }\n",
       "</style>\n",
       "<table border=\"1\" class=\"dataframe\">\n",
       "  <thead>\n",
       "    <tr style=\"text-align: right;\">\n",
       "      <th></th>\n",
       "      <th>id</th>\n",
       "      <th>listing_url</th>\n",
       "      <th>host_id</th>\n",
       "      <th>host_name</th>\n",
       "      <th>host_location</th>\n",
       "      <th>host_response_time</th>\n",
       "      <th>host_response_rate</th>\n",
       "      <th>host_acceptance_rate</th>\n",
       "      <th>host_is_superhost</th>\n",
       "      <th>host_total_listings_count</th>\n",
       "      <th>...</th>\n",
       "      <th>review_scores_communication</th>\n",
       "      <th>review_scores_location</th>\n",
       "      <th>review_scores_value</th>\n",
       "      <th>license</th>\n",
       "      <th>instant_bookable</th>\n",
       "      <th>calculated_host_listings_count</th>\n",
       "      <th>calculated_host_listings_count_entire_homes</th>\n",
       "      <th>calculated_host_listings_count_private_rooms</th>\n",
       "      <th>calculated_host_listings_count_shared_rooms</th>\n",
       "      <th>reviews_per_month</th>\n",
       "    </tr>\n",
       "  </thead>\n",
       "  <tbody>\n",
       "    <tr>\n",
       "      <th>0</th>\n",
       "      <td>1133084246537492095</td>\n",
       "      <td>https://www.airbnb.com/rooms/1133084246537492095</td>\n",
       "      <td>518096233</td>\n",
       "      <td>Freja</td>\n",
       "      <td>Sydney, Australia</td>\n",
       "      <td>within an hour</td>\n",
       "      <td>100%</td>\n",
       "      <td>90%</td>\n",
       "      <td>t</td>\n",
       "      <td>10</td>\n",
       "      <td>...</td>\n",
       "      <td>5.00</td>\n",
       "      <td>4.86</td>\n",
       "      <td>5.00</td>\n",
       "      <td>PID-STRA-65066</td>\n",
       "      <td>f</td>\n",
       "      <td>8</td>\n",
       "      <td>8</td>\n",
       "      <td>0</td>\n",
       "      <td>0</td>\n",
       "      <td>1.91</td>\n",
       "    </tr>\n",
       "    <tr>\n",
       "      <th>1</th>\n",
       "      <td>1197847613838255617</td>\n",
       "      <td>https://www.airbnb.com/rooms/1197847613838255617</td>\n",
       "      <td>535212315</td>\n",
       "      <td>Shu-Chen J</td>\n",
       "      <td>NaN</td>\n",
       "      <td>within an hour</td>\n",
       "      <td>80%</td>\n",
       "      <td>100%</td>\n",
       "      <td>f</td>\n",
       "      <td>4</td>\n",
       "      <td>...</td>\n",
       "      <td>NaN</td>\n",
       "      <td>NaN</td>\n",
       "      <td>NaN</td>\n",
       "      <td>Exempt</td>\n",
       "      <td>t</td>\n",
       "      <td>2</td>\n",
       "      <td>2</td>\n",
       "      <td>0</td>\n",
       "      <td>0</td>\n",
       "      <td>NaN</td>\n",
       "    </tr>\n",
       "    <tr>\n",
       "      <th>2</th>\n",
       "      <td>1217134292586040156</td>\n",
       "      <td>https://www.airbnb.com/rooms/1217134292586040156</td>\n",
       "      <td>514364299</td>\n",
       "      <td>Kim</td>\n",
       "      <td>Sydney, Australia</td>\n",
       "      <td>within an hour</td>\n",
       "      <td>100%</td>\n",
       "      <td>93%</td>\n",
       "      <td>f</td>\n",
       "      <td>59</td>\n",
       "      <td>...</td>\n",
       "      <td>NaN</td>\n",
       "      <td>NaN</td>\n",
       "      <td>NaN</td>\n",
       "      <td>Exempt</td>\n",
       "      <td>f</td>\n",
       "      <td>2</td>\n",
       "      <td>2</td>\n",
       "      <td>0</td>\n",
       "      <td>0</td>\n",
       "      <td>NaN</td>\n",
       "    </tr>\n",
       "    <tr>\n",
       "      <th>3</th>\n",
       "      <td>551015409583692351</td>\n",
       "      <td>https://www.airbnb.com/rooms/551015409583692351</td>\n",
       "      <td>11911602</td>\n",
       "      <td>Dominique</td>\n",
       "      <td>NaN</td>\n",
       "      <td>NaN</td>\n",
       "      <td>NaN</td>\n",
       "      <td>NaN</td>\n",
       "      <td>f</td>\n",
       "      <td>1</td>\n",
       "      <td>...</td>\n",
       "      <td>5.00</td>\n",
       "      <td>5.00</td>\n",
       "      <td>5.00</td>\n",
       "      <td>PID-STRA-16184</td>\n",
       "      <td>f</td>\n",
       "      <td>1</td>\n",
       "      <td>1</td>\n",
       "      <td>0</td>\n",
       "      <td>0</td>\n",
       "      <td>0.07</td>\n",
       "    </tr>\n",
       "    <tr>\n",
       "      <th>4</th>\n",
       "      <td>1025723851563230191</td>\n",
       "      <td>https://www.airbnb.com/rooms/1025723851563230191</td>\n",
       "      <td>148607219</td>\n",
       "      <td>Wyndel Apartments</td>\n",
       "      <td>Sydney, Australia</td>\n",
       "      <td>within an hour</td>\n",
       "      <td>96%</td>\n",
       "      <td>100%</td>\n",
       "      <td>t</td>\n",
       "      <td>73</td>\n",
       "      <td>...</td>\n",
       "      <td>5.00</td>\n",
       "      <td>5.00</td>\n",
       "      <td>4.67</td>\n",
       "      <td>PID-STRA-59537</td>\n",
       "      <td>t</td>\n",
       "      <td>50</td>\n",
       "      <td>50</td>\n",
       "      <td>0</td>\n",
       "      <td>0</td>\n",
       "      <td>0.32</td>\n",
       "    </tr>\n",
       "    <tr>\n",
       "      <th>...</th>\n",
       "      <td>...</td>\n",
       "      <td>...</td>\n",
       "      <td>...</td>\n",
       "      <td>...</td>\n",
       "      <td>...</td>\n",
       "      <td>...</td>\n",
       "      <td>...</td>\n",
       "      <td>...</td>\n",
       "      <td>...</td>\n",
       "      <td>...</td>\n",
       "      <td>...</td>\n",
       "      <td>...</td>\n",
       "      <td>...</td>\n",
       "      <td>...</td>\n",
       "      <td>...</td>\n",
       "      <td>...</td>\n",
       "      <td>...</td>\n",
       "      <td>...</td>\n",
       "      <td>...</td>\n",
       "      <td>...</td>\n",
       "      <td>...</td>\n",
       "    </tr>\n",
       "    <tr>\n",
       "      <th>16223</th>\n",
       "      <td>918863275735975684</td>\n",
       "      <td>https://www.airbnb.com/rooms/918863275735975684</td>\n",
       "      <td>3677837</td>\n",
       "      <td>Leah</td>\n",
       "      <td>New South Wales, Australia</td>\n",
       "      <td>within an hour</td>\n",
       "      <td>100%</td>\n",
       "      <td>97%</td>\n",
       "      <td>t</td>\n",
       "      <td>1</td>\n",
       "      <td>...</td>\n",
       "      <td>5.00</td>\n",
       "      <td>5.00</td>\n",
       "      <td>4.96</td>\n",
       "      <td>PID-STRA-53408</td>\n",
       "      <td>f</td>\n",
       "      <td>1</td>\n",
       "      <td>1</td>\n",
       "      <td>0</td>\n",
       "      <td>0</td>\n",
       "      <td>3.27</td>\n",
       "    </tr>\n",
       "    <tr>\n",
       "      <th>16224</th>\n",
       "      <td>22569186</td>\n",
       "      <td>https://www.airbnb.com/rooms/22569186</td>\n",
       "      <td>89776230</td>\n",
       "      <td>Patricia</td>\n",
       "      <td>Sydney, Australia</td>\n",
       "      <td>within an hour</td>\n",
       "      <td>100%</td>\n",
       "      <td>100%</td>\n",
       "      <td>t</td>\n",
       "      <td>1</td>\n",
       "      <td>...</td>\n",
       "      <td>4.98</td>\n",
       "      <td>4.98</td>\n",
       "      <td>4.82</td>\n",
       "      <td>PID-STRA-23066</td>\n",
       "      <td>f</td>\n",
       "      <td>1</td>\n",
       "      <td>1</td>\n",
       "      <td>0</td>\n",
       "      <td>0</td>\n",
       "      <td>1.03</td>\n",
       "    </tr>\n",
       "    <tr>\n",
       "      <th>16225</th>\n",
       "      <td>873060968780060181</td>\n",
       "      <td>https://www.airbnb.com/rooms/873060968780060181</td>\n",
       "      <td>129541872</td>\n",
       "      <td>Elizabeth</td>\n",
       "      <td>Earlwood, Australia</td>\n",
       "      <td>within an hour</td>\n",
       "      <td>100%</td>\n",
       "      <td>99%</td>\n",
       "      <td>t</td>\n",
       "      <td>1</td>\n",
       "      <td>...</td>\n",
       "      <td>4.99</td>\n",
       "      <td>4.86</td>\n",
       "      <td>4.93</td>\n",
       "      <td>PID-STRA-51226</td>\n",
       "      <td>t</td>\n",
       "      <td>1</td>\n",
       "      <td>1</td>\n",
       "      <td>0</td>\n",
       "      <td>0</td>\n",
       "      <td>6.89</td>\n",
       "    </tr>\n",
       "    <tr>\n",
       "      <th>16226</th>\n",
       "      <td>1181783729718754162</td>\n",
       "      <td>https://www.airbnb.com/rooms/1181783729718754162</td>\n",
       "      <td>91961414</td>\n",
       "      <td>Kimi</td>\n",
       "      <td>NaN</td>\n",
       "      <td>within an hour</td>\n",
       "      <td>100%</td>\n",
       "      <td>100%</td>\n",
       "      <td>t</td>\n",
       "      <td>137</td>\n",
       "      <td>...</td>\n",
       "      <td>5.00</td>\n",
       "      <td>5.00</td>\n",
       "      <td>5.00</td>\n",
       "      <td>PID-STRA-66423</td>\n",
       "      <td>t</td>\n",
       "      <td>99</td>\n",
       "      <td>83</td>\n",
       "      <td>16</td>\n",
       "      <td>0</td>\n",
       "      <td>0.56</td>\n",
       "    </tr>\n",
       "    <tr>\n",
       "      <th>16227</th>\n",
       "      <td>1181600530235963782</td>\n",
       "      <td>https://www.airbnb.com/rooms/1181600530235963782</td>\n",
       "      <td>6413124</td>\n",
       "      <td>Edward</td>\n",
       "      <td>Caringbah South, Australia</td>\n",
       "      <td>within a few hours</td>\n",
       "      <td>100%</td>\n",
       "      <td>100%</td>\n",
       "      <td>f</td>\n",
       "      <td>1</td>\n",
       "      <td>...</td>\n",
       "      <td>5.00</td>\n",
       "      <td>5.00</td>\n",
       "      <td>5.00</td>\n",
       "      <td>PID-STRA-67492</td>\n",
       "      <td>t</td>\n",
       "      <td>1</td>\n",
       "      <td>1</td>\n",
       "      <td>0</td>\n",
       "      <td>0</td>\n",
       "      <td>1.00</td>\n",
       "    </tr>\n",
       "  </tbody>\n",
       "</table>\n",
       "<p>16228 rows × 50 columns</p>\n",
       "</div>"
      ],
      "text/plain": [
       "                        id                                       listing_url  \\\n",
       "0      1133084246537492095  https://www.airbnb.com/rooms/1133084246537492095   \n",
       "1      1197847613838255617  https://www.airbnb.com/rooms/1197847613838255617   \n",
       "2      1217134292586040156  https://www.airbnb.com/rooms/1217134292586040156   \n",
       "3       551015409583692351   https://www.airbnb.com/rooms/551015409583692351   \n",
       "4      1025723851563230191  https://www.airbnb.com/rooms/1025723851563230191   \n",
       "...                    ...                                               ...   \n",
       "16223   918863275735975684   https://www.airbnb.com/rooms/918863275735975684   \n",
       "16224             22569186             https://www.airbnb.com/rooms/22569186   \n",
       "16225   873060968780060181   https://www.airbnb.com/rooms/873060968780060181   \n",
       "16226  1181783729718754162  https://www.airbnb.com/rooms/1181783729718754162   \n",
       "16227  1181600530235963782  https://www.airbnb.com/rooms/1181600530235963782   \n",
       "\n",
       "         host_id          host_name               host_location  \\\n",
       "0      518096233              Freja           Sydney, Australia   \n",
       "1      535212315         Shu-Chen J                         NaN   \n",
       "2      514364299                Kim           Sydney, Australia   \n",
       "3       11911602          Dominique                         NaN   \n",
       "4      148607219  Wyndel Apartments           Sydney, Australia   \n",
       "...          ...                ...                         ...   \n",
       "16223    3677837               Leah  New South Wales, Australia   \n",
       "16224   89776230           Patricia           Sydney, Australia   \n",
       "16225  129541872          Elizabeth         Earlwood, Australia   \n",
       "16226   91961414               Kimi                         NaN   \n",
       "16227    6413124             Edward  Caringbah South, Australia   \n",
       "\n",
       "       host_response_time host_response_rate host_acceptance_rate  \\\n",
       "0          within an hour               100%                  90%   \n",
       "1          within an hour                80%                 100%   \n",
       "2          within an hour               100%                  93%   \n",
       "3                     NaN                NaN                  NaN   \n",
       "4          within an hour                96%                 100%   \n",
       "...                   ...                ...                  ...   \n",
       "16223      within an hour               100%                  97%   \n",
       "16224      within an hour               100%                 100%   \n",
       "16225      within an hour               100%                  99%   \n",
       "16226      within an hour               100%                 100%   \n",
       "16227  within a few hours               100%                 100%   \n",
       "\n",
       "      host_is_superhost  host_total_listings_count  ...  \\\n",
       "0                     t                         10  ...   \n",
       "1                     f                          4  ...   \n",
       "2                     f                         59  ...   \n",
       "3                     f                          1  ...   \n",
       "4                     t                         73  ...   \n",
       "...                 ...                        ...  ...   \n",
       "16223                 t                          1  ...   \n",
       "16224                 t                          1  ...   \n",
       "16225                 t                          1  ...   \n",
       "16226                 t                        137  ...   \n",
       "16227                 f                          1  ...   \n",
       "\n",
       "      review_scores_communication review_scores_location review_scores_value  \\\n",
       "0                            5.00                   4.86                5.00   \n",
       "1                             NaN                    NaN                 NaN   \n",
       "2                             NaN                    NaN                 NaN   \n",
       "3                            5.00                   5.00                5.00   \n",
       "4                            5.00                   5.00                4.67   \n",
       "...                           ...                    ...                 ...   \n",
       "16223                        5.00                   5.00                4.96   \n",
       "16224                        4.98                   4.98                4.82   \n",
       "16225                        4.99                   4.86                4.93   \n",
       "16226                        5.00                   5.00                5.00   \n",
       "16227                        5.00                   5.00                5.00   \n",
       "\n",
       "              license  instant_bookable  calculated_host_listings_count  \\\n",
       "0      PID-STRA-65066                 f                               8   \n",
       "1              Exempt                 t                               2   \n",
       "2              Exempt                 f                               2   \n",
       "3      PID-STRA-16184                 f                               1   \n",
       "4      PID-STRA-59537                 t                              50   \n",
       "...               ...               ...                             ...   \n",
       "16223  PID-STRA-53408                 f                               1   \n",
       "16224  PID-STRA-23066                 f                               1   \n",
       "16225  PID-STRA-51226                 t                               1   \n",
       "16226  PID-STRA-66423                 t                              99   \n",
       "16227  PID-STRA-67492                 t                               1   \n",
       "\n",
       "      calculated_host_listings_count_entire_homes  \\\n",
       "0                                               8   \n",
       "1                                               2   \n",
       "2                                               2   \n",
       "3                                               1   \n",
       "4                                              50   \n",
       "...                                           ...   \n",
       "16223                                           1   \n",
       "16224                                           1   \n",
       "16225                                           1   \n",
       "16226                                          83   \n",
       "16227                                           1   \n",
       "\n",
       "      calculated_host_listings_count_private_rooms  \\\n",
       "0                                                0   \n",
       "1                                                0   \n",
       "2                                                0   \n",
       "3                                                0   \n",
       "4                                                0   \n",
       "...                                            ...   \n",
       "16223                                            0   \n",
       "16224                                            0   \n",
       "16225                                            0   \n",
       "16226                                           16   \n",
       "16227                                            0   \n",
       "\n",
       "       calculated_host_listings_count_shared_rooms  reviews_per_month  \n",
       "0                                                0               1.91  \n",
       "1                                                0                NaN  \n",
       "2                                                0                NaN  \n",
       "3                                                0               0.07  \n",
       "4                                                0               0.32  \n",
       "...                                            ...                ...  \n",
       "16223                                            0               3.27  \n",
       "16224                                            0               1.03  \n",
       "16225                                            0               6.89  \n",
       "16226                                            0               0.56  \n",
       "16227                                            0               1.00  \n",
       "\n",
       "[16228 rows x 50 columns]"
      ]
     },
     "execution_count": 3,
     "metadata": {},
     "output_type": "execute_result"
    }
   ],
   "source": [
    "data=pd.read_csv('listings_Sydney.csv', encoding='latin1') \n",
    "data"
   ]
  },
  {
   "cell_type": "markdown",
   "metadata": {},
   "source": [
    "**CHECAMOS LOS VALORES NULOS**"
   ]
  },
  {
   "cell_type": "code",
   "execution_count": 4,
   "metadata": {},
   "outputs": [
    {
     "data": {
      "text/plain": [
       "id                                                  0\n",
       "listing_url                                         0\n",
       "host_id                                             0\n",
       "host_name                                           0\n",
       "host_location                                    4246\n",
       "host_response_time                               2949\n",
       "host_response_rate                               2949\n",
       "host_acceptance_rate                             2126\n",
       "host_is_superhost                                 402\n",
       "host_total_listings_count                           0\n",
       "host_verifications                                  0\n",
       "host_has_profile_pic                                0\n",
       "host_since                                          0\n",
       "host_identity_verified                              0\n",
       "latitude                                            0\n",
       "longitude                                           0\n",
       "property_type                                       0\n",
       "room_type                                           0\n",
       "accommodates                                        0\n",
       "bathrooms                                        1382\n",
       "bathrooms_text                                      7\n",
       "bedrooms                                          246\n",
       "beds                                             1426\n",
       "amenities                                           0\n",
       "price                                            1395\n",
       "minimum_nights                                      0\n",
       "maximum_nights                                      0\n",
       "calendar_updated                                16228\n",
       "has_availability                                  181\n",
       "availability_30                                     0\n",
       "availability_365                                    0\n",
       "number_of_reviews                                   0\n",
       "number_of_reviews_ltm                               0\n",
       "number_of_reviews_l30d                              0\n",
       "first_review                                     2987\n",
       "last_review                                      2987\n",
       "review_scores_rating                             2987\n",
       "review_scores_accuracy                           2988\n",
       "review_scores_cleanliness                        2988\n",
       "review_scores_checkin                            2988\n",
       "review_scores_communication                      2988\n",
       "review_scores_location                           2988\n",
       "review_scores_value                              2988\n",
       "license                                          1505\n",
       "instant_bookable                                    0\n",
       "calculated_host_listings_count                      0\n",
       "calculated_host_listings_count_entire_homes         0\n",
       "calculated_host_listings_count_private_rooms        0\n",
       "calculated_host_listings_count_shared_rooms         0\n",
       "reviews_per_month                                2987\n",
       "dtype: int64"
      ]
     },
     "execution_count": 4,
     "metadata": {},
     "output_type": "execute_result"
    }
   ],
   "source": [
    "valores_nulos=data.isnull().sum()\n",
    "valores_nulos"
   ]
  },
  {
   "cell_type": "markdown",
   "metadata": {},
   "source": [
    "**COMENZAMOS A TRATAR LOS NULOS DE LAS 23 COLUMNAS QUE LOS CONTIENEN**"
   ]
  },
  {
   "cell_type": "markdown",
   "metadata": {},
   "source": [
    "**1. HOST_LOCATION**"
   ]
  },
  {
   "cell_type": "code",
   "execution_count": 5,
   "metadata": {},
   "outputs": [],
   "source": [
    "# Método: Sustitución con un string específico\n",
    "data['host_location'] = data['host_location'].fillna(\"Desconocido\")  \n",
    "# Razón: Se utiliza un valor descriptivo para indicar que la ubicación del anfitrión es desconocida."
   ]
  },
  {
   "cell_type": "markdown",
   "metadata": {},
   "source": [
    "**2. HOST_RESPONSE_TIME**"
   ]
  },
  {
   "cell_type": "code",
   "execution_count": 6,
   "metadata": {},
   "outputs": [],
   "source": [
    "# Método: Sustitución con un string específico\n",
    "data['host_response_time'] = data['host_response_time'].fillna(\"Desconocido\")  \n",
    "# Razón: Se utiliza un valor que indica que el tiempo de respuesta es desconocido."
   ]
  },
  {
   "cell_type": "markdown",
   "metadata": {},
   "source": [
    "**3. HOST_RESPONSE_RATE**"
   ]
  },
  {
   "cell_type": "code",
   "execution_count": 7,
   "metadata": {},
   "outputs": [],
   "source": [
    "# Método: Sustitución con la media\n",
    "data['host_response_rate'] = data['host_response_rate'].str.replace('%', '').astype(float)\n",
    "data['host_response_rate'] = data['host_response_rate'].fillna(data['host_response_rate'].mean())\n",
    "data['host_response_rate'] = data['host_response_rate'].astype(str) + '%'  \n",
    "# Razón: La media es un buen estimador para datos continuos y ayuda a mantener la distribución de los datos."
   ]
  },
  {
   "cell_type": "markdown",
   "metadata": {},
   "source": [
    "**4. HOST_ACCEPTANCE_RATE**"
   ]
  },
  {
   "cell_type": "code",
   "execution_count": 8,
   "metadata": {},
   "outputs": [],
   "source": [
    "# Método: Sustitución con la mediana\n",
    "data['host_acceptance_rate'] = data['host_acceptance_rate'].str.replace('%', '').astype(float)\n",
    "data['host_acceptance_rate'] = data['host_acceptance_rate'].fillna(data['host_acceptance_rate'].mean())\n",
    "data['host_acceptance_rate'] = data['host_acceptance_rate'].astype(str) + '%' \n",
    "# Razón: La mediana es menos sensible a los valores atípicos y proporciona una mejor representación central en este caso."
   ]
  },
  {
   "cell_type": "markdown",
   "metadata": {},
   "source": [
    "**5. HOST_IS_SUPERHOST**"
   ]
  },
  {
   "cell_type": "code",
   "execution_count": 9,
   "metadata": {},
   "outputs": [],
   "source": [
    "# Método: Sustitución con un valor específico\n",
    "data['host_is_superhost'] = data['host_is_superhost'].fillna(\"f\")  \n",
    "# Razón: Se asume que si no hay información, el anfitrión no es un superanfitrión."
   ]
  },
  {
   "cell_type": "markdown",
   "metadata": {},
   "source": [
    "**6. BATHROOMS**"
   ]
  },
  {
   "cell_type": "code",
   "execution_count": 10,
   "metadata": {},
   "outputs": [],
   "source": [
    "# Método: Sustitución con un valor específico\n",
    "data['bathrooms'] = data['bathrooms'].fillna(data['bathrooms'].mean())\n",
    "# Razón: Se utiliza un valor que indica el número de baños del airbnb."
   ]
  },
  {
   "cell_type": "markdown",
   "metadata": {},
   "source": [
    "**7. BATHROOMS_TEXT**"
   ]
  },
  {
   "cell_type": "code",
   "execution_count": 11,
   "metadata": {},
   "outputs": [],
   "source": [
    "# Método: Sustitución con un valor específico\n",
    "data['bathrooms_text'] = data['bathrooms_text'].fillna(\"1 baño\")  \n",
    "# Razón: Se utiliza un valor que indica que no hay baños disponibles."
   ]
  },
  {
   "cell_type": "markdown",
   "metadata": {},
   "source": [
    "**8. BEDROOMS**"
   ]
  },
  {
   "cell_type": "code",
   "execution_count": 12,
   "metadata": {},
   "outputs": [],
   "source": [
    "# Método: Sustitución con la mediana\n",
    "data['bedrooms'] = data['bedrooms'].fillna(data['bedrooms'].median())  \n",
    "# Razón: La mediana es un mejor estimador en caso de que existan valores atípicos."
   ]
  },
  {
   "cell_type": "markdown",
   "metadata": {},
   "source": [
    "**9. BEDS**"
   ]
  },
  {
   "cell_type": "code",
   "execution_count": 13,
   "metadata": {},
   "outputs": [],
   "source": [
    "# Método: Sustitución con la mediana\n",
    "data['beds'] = data['beds'].fillna(data['beds'].median())  \n",
    "# Razón: La mediana es menos sensible a los valores atípicos y proporciona una mejor representación central."
   ]
  },
  {
   "cell_type": "markdown",
   "metadata": {},
   "source": [
    "**10. PRICE**"
   ]
  },
  {
   "cell_type": "code",
   "execution_count": 14,
   "metadata": {},
   "outputs": [],
   "source": [
    "# Método: Sustitución con la mediana\n",
    "data['price'] = data['price'].str.replace('$', '')\n",
    "data['price'] = data['price'].str.replace(',', '').astype(float)\n",
    "data['price'] = data['price'].fillna(data['price'].median())\n",
    "data['price'] = data['price'].astype(str) + '$'\n",
    "# Razón: La mediana es un mejor estimador en caso de que existan valores atípicos."
   ]
  },
  {
   "cell_type": "markdown",
   "metadata": {},
   "source": [
    "**11. CALENDAR_UPDATED**"
   ]
  },
  {
   "cell_type": "code",
   "execution_count": 15,
   "metadata": {},
   "outputs": [],
   "source": [
    "# Método: Sustitución con un string específico\n",
    "data['calendar_updated'] = data['calendar_updated'].fillna(\"No actualizado\")  \n",
    "# Razón: Se utiliza un valor que indica que el calendario no ha sido actualizado."
   ]
  },
  {
   "cell_type": "markdown",
   "metadata": {},
   "source": [
    "**12. HAS_AVAILABILITY**"
   ]
  },
  {
   "cell_type": "code",
   "execution_count": 16,
   "metadata": {},
   "outputs": [],
   "source": [
    "# Método: Sustitución con un valor específico\n",
    "data['has_availability'] = data['has_availability'].fillna(\"f\")  \n",
    "# Razón: Se asume que si no hay información, no hay disponibilidad."
   ]
  },
  {
   "cell_type": "markdown",
   "metadata": {},
   "source": [
    "**13. FIRST_REVIEW**"
   ]
  },
  {
   "cell_type": "code",
   "execution_count": 17,
   "metadata": {},
   "outputs": [],
   "source": [
    "# Método: Sustitución con un string específico\n",
    "data['first_review'] = data['first_review'].fillna(\"Sin fecha\")  \n",
    "# Razón: Se utiliza un valor que indica que no hay reseñas disponibles."
   ]
  },
  {
   "cell_type": "markdown",
   "metadata": {},
   "source": [
    "**14. LAST_REVIEW**"
   ]
  },
  {
   "cell_type": "code",
   "execution_count": 18,
   "metadata": {},
   "outputs": [],
   "source": [
    "# Método: Sustitución con un string específico\n",
    "data['last_review'] = data['last_review'].fillna(\"Sin fecha\")  \n",
    "# Razón: Se utiliza un valor que indica que no hay reseñas disponibles."
   ]
  },
  {
   "cell_type": "markdown",
   "metadata": {},
   "source": [
    "**15. REVIEW_SCORES_RATING**"
   ]
  },
  {
   "cell_type": "code",
   "execution_count": 19,
   "metadata": {},
   "outputs": [],
   "source": [
    "# Método: Sustitución con la media\n",
    "data['review_scores_rating'] = data['review_scores_rating'].fillna(data['review_scores_rating'].mean())  \n",
    "# Razón: La media es un buen estimador para datos continuos y ayuda a mantener la distribución de los datos."
   ]
  },
  {
   "cell_type": "markdown",
   "metadata": {},
   "source": [
    "**16. REVIEW_SCORES_ACCURACY**"
   ]
  },
  {
   "cell_type": "code",
   "execution_count": 20,
   "metadata": {},
   "outputs": [],
   "source": [
    "# Método: Sustitución con la media\n",
    "data['review_scores_accuracy'] = data['review_scores_accuracy'].fillna(data['review_scores_accuracy'].mean())  \n",
    "# Razón: La media es un buen estimador para datos continuos y ayuda a mantener la distribución de los datos."
   ]
  },
  {
   "cell_type": "markdown",
   "metadata": {},
   "source": [
    "**17. REVIEW_SCORES_CLEANLINESS**"
   ]
  },
  {
   "cell_type": "code",
   "execution_count": 21,
   "metadata": {},
   "outputs": [],
   "source": [
    "# Método: Sustitución con la media\n",
    "data['review_scores_cleanliness'] = data['review_scores_cleanliness'].fillna(data['review_scores_cleanliness'].mean())  \n",
    "# Razón: La media es un buen estimador para datos continuos y ayuda a mantener la distribución de los datos."
   ]
  },
  {
   "cell_type": "markdown",
   "metadata": {},
   "source": [
    "**18. REVIEW_SCORES_CHECKIN**"
   ]
  },
  {
   "cell_type": "code",
   "execution_count": 22,
   "metadata": {},
   "outputs": [],
   "source": [
    "# Método: Sustitución con la media\n",
    "data['review_scores_checkin'] = data['review_scores_checkin'].fillna(data['review_scores_checkin'].mean())  \n",
    "# Razón: La media es un buen estimador para datos continuos y ayuda a mantener la distribución de los datos."
   ]
  },
  {
   "cell_type": "markdown",
   "metadata": {},
   "source": [
    "**19. REVIEW_SCORES_COMMUNICATION**"
   ]
  },
  {
   "cell_type": "code",
   "execution_count": 23,
   "metadata": {},
   "outputs": [],
   "source": [
    "# Método: Sustitución con la media\n",
    "data['review_scores_communication'] = data['review_scores_communication'].fillna(data['review_scores_communication'].mean())  \n",
    "# Razón: La media es un buen estimador para datos continuos y ayuda a mantener la distribución de los datos."
   ]
  },
  {
   "cell_type": "markdown",
   "metadata": {},
   "source": [
    "**20. REVIEW_SCORES_LOCATION**"
   ]
  },
  {
   "cell_type": "code",
   "execution_count": 24,
   "metadata": {},
   "outputs": [],
   "source": [
    "# Método: Sustitución con la media\n",
    "data['review_scores_location'] = data['review_scores_location'].fillna(data['review_scores_location'].mean())  \n",
    "# Razón: La media es un buen estimador para datos continuos y ayuda a mantener la distribución de los datos."
   ]
  },
  {
   "cell_type": "markdown",
   "metadata": {},
   "source": [
    "**21. REVIEW_SCORES_VALUE**"
   ]
  },
  {
   "cell_type": "code",
   "execution_count": 25,
   "metadata": {},
   "outputs": [],
   "source": [
    "# Método: Sustitución con la media\n",
    "data['review_scores_value'] = data['review_scores_value'].fillna(data['review_scores_value'].mean())  \n",
    "# Razón: La media es un buen estimador para datos continuos y ayuda a mantener la distribución de los datos."
   ]
  },
  {
   "cell_type": "markdown",
   "metadata": {},
   "source": [
    "**22. LICENSE**"
   ]
  },
  {
   "cell_type": "code",
   "execution_count": 26,
   "metadata": {},
   "outputs": [],
   "source": [
    "# Método: Sustitución con un string específico\n",
    "data['license'] = data['license'].fillna(\"Sin licencia\")  \n",
    "# Razón: Se utiliza un valor que indica que no hay información sobre la licencia."
   ]
  },
  {
   "cell_type": "markdown",
   "metadata": {},
   "source": [
    "**23. REVIEWS_PER_MONTH**"
   ]
  },
  {
   "cell_type": "code",
   "execution_count": 27,
   "metadata": {},
   "outputs": [],
   "source": [
    "# Método: Sustitución con la media\n",
    "data['reviews_per_month'] = data['reviews_per_month'].fillna(data['reviews_per_month'].mean())  \n",
    "# Razón: La media es un buen estimador para datos continuos y ayuda a mantener la distribución de los datos."
   ]
  },
  {
   "cell_type": "markdown",
   "metadata": {},
   "source": [
    "**CREAMOS EL ARCHIVO CSV LIMPIO**"
   ]
  },
  {
   "cell_type": "code",
   "execution_count": 28,
   "metadata": {},
   "outputs": [],
   "source": [
    "data.to_csv('listings_limpio_Sydney.csv')"
   ]
  }
 ],
 "metadata": {
  "kernelspec": {
   "display_name": "Python 3",
   "language": "python",
   "name": "python3"
  },
  "language_info": {
   "codemirror_mode": {
    "name": "ipython",
    "version": 3
   },
   "file_extension": ".py",
   "mimetype": "text/x-python",
   "name": "python",
   "nbconvert_exporter": "python",
   "pygments_lexer": "ipython3",
   "version": "3.13.1"
  }
 },
 "nbformat": 4,
 "nbformat_minor": 2
}
